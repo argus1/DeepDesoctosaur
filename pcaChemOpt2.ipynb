{
 "cells": [
  {
   "cell_type": "code",
   "execution_count": 2,
   "metadata": {},
   "outputs": [
    {
     "data": {
      "text/html": [
       "<div>\n",
       "<style scoped>\n",
       "    .dataframe tbody tr th:only-of-type {\n",
       "        vertical-align: middle;\n",
       "    }\n",
       "\n",
       "    .dataframe tbody tr th {\n",
       "        vertical-align: top;\n",
       "    }\n",
       "\n",
       "    .dataframe thead th {\n",
       "        text-align: right;\n",
       "    }\n",
       "</style>\n",
       "<table border=\"1\" class=\"dataframe\">\n",
       "  <thead>\n",
       "    <tr style=\"text-align: right;\">\n",
       "      <th></th>\n",
       "      <th>bact</th>\n",
       "      <th>apol</th>\n",
       "      <th>ASA</th>\n",
       "      <th>ASA+</th>\n",
       "      <th>ASA-</th>\n",
       "      <th>ASA_H</th>\n",
       "      <th>ASA_P</th>\n",
       "    </tr>\n",
       "    <tr>\n",
       "      <th>mol</th>\n",
       "      <th></th>\n",
       "      <th></th>\n",
       "      <th></th>\n",
       "      <th></th>\n",
       "      <th></th>\n",
       "      <th></th>\n",
       "      <th></th>\n",
       "    </tr>\n",
       "  </thead>\n",
       "  <tbody>\n",
       "    <tr>\n",
       "      <th>TLcf</th>\n",
       "      <td>high</td>\n",
       "      <td>373.22794</td>\n",
       "      <td>3192.7236</td>\n",
       "      <td>2299.1519</td>\n",
       "      <td>893.5719</td>\n",
       "      <td>1840.1213</td>\n",
       "      <td>1352.6024</td>\n",
       "    </tr>\n",
       "    <tr>\n",
       "      <th>THIS5</th>\n",
       "      <td>high</td>\n",
       "      <td>570.93018</td>\n",
       "      <td>4632.4492</td>\n",
       "      <td>0.0000</td>\n",
       "      <td>0.0000</td>\n",
       "      <td>4632.4492</td>\n",
       "      <td>0.0000</td>\n",
       "    </tr>\n",
       "    <tr>\n",
       "      <th>Lcf</th>\n",
       "      <td>low</td>\n",
       "      <td>237.45761</td>\n",
       "      <td>2081.5366</td>\n",
       "      <td>0.0000</td>\n",
       "      <td>0.0000</td>\n",
       "      <td>2081.5366</td>\n",
       "      <td>0.0000</td>\n",
       "    </tr>\n",
       "    <tr>\n",
       "      <th>HIS5</th>\n",
       "      <td>low</td>\n",
       "      <td>450.00461</td>\n",
       "      <td>3726.2500</td>\n",
       "      <td>0.0000</td>\n",
       "      <td>0.0000</td>\n",
       "      <td>3726.2500</td>\n",
       "      <td>0.0000</td>\n",
       "    </tr>\n",
       "  </tbody>\n",
       "</table>\n",
       "</div>"
      ],
      "text/plain": [
       "       bact       apol        ASA       ASA+      ASA-      ASA_H      ASA_P\n",
       "mol                                                                         \n",
       "TLcf   high  373.22794  3192.7236  2299.1519  893.5719  1840.1213  1352.6024\n",
       "THIS5  high  570.93018  4632.4492     0.0000    0.0000  4632.4492     0.0000\n",
       "Lcf     low  237.45761  2081.5366     0.0000    0.0000  2081.5366     0.0000\n",
       "HIS5    low  450.00461  3726.2500     0.0000    0.0000  3726.2500     0.0000"
      ]
     },
     "execution_count": 2,
     "metadata": {},
     "output_type": "execute_result"
    }
   ],
   "source": [
    "import pandas as pd\n",
    "\n",
    "# load dataset into Pandas DataFrame\n",
    "df = pd.read_csv(\"ChemOptCleaned3.csv\", header=0, index_col=0)\n",
    "df.head()\n"
   ]
  },
  {
   "cell_type": "code",
   "execution_count": 3,
   "metadata": {},
   "outputs": [
    {
     "name": "stderr",
     "output_type": "stream",
     "text": [
      "/usr/lib64/python3.7/site-packages/sklearn/utils/__init__.py:4: DeprecationWarning: Using or importing the ABCs from 'collections' instead of from 'collections.abc' is deprecated, and in 3.8 it will stop working\n",
      "  from collections import Sequence\n"
     ]
    }
   ],
   "source": [
    "from sklearn.preprocessing import StandardScaler\n",
    "features = df.columns\n",
    "# Separating out the features\n",
    "x = df.drop(['bact'], axis = 1)\n",
    "# Separating out the features\n",
    "#x = df.loc[:, features].values\n",
    "\n",
    "# Separating out the target\n",
    "y = df.loc[:,['bact']].values\n",
    "# Standardizing the features\n",
    "x = StandardScaler().fit_transform(x)"
   ]
  },
  {
   "cell_type": "code",
   "execution_count": 4,
   "metadata": {},
   "outputs": [
    {
     "data": {
      "text/html": [
       "<div>\n",
       "<style scoped>\n",
       "    .dataframe tbody tr th:only-of-type {\n",
       "        vertical-align: middle;\n",
       "    }\n",
       "\n",
       "    .dataframe tbody tr th {\n",
       "        vertical-align: top;\n",
       "    }\n",
       "\n",
       "    .dataframe thead th {\n",
       "        text-align: right;\n",
       "    }\n",
       "</style>\n",
       "<table border=\"1\" class=\"dataframe\">\n",
       "  <thead>\n",
       "    <tr style=\"text-align: right;\">\n",
       "      <th></th>\n",
       "      <th>bact</th>\n",
       "      <th>apol</th>\n",
       "      <th>ASA</th>\n",
       "      <th>ASA+</th>\n",
       "      <th>ASA-</th>\n",
       "      <th>ASA_H</th>\n",
       "      <th>ASA_P</th>\n",
       "    </tr>\n",
       "    <tr>\n",
       "      <th>mol</th>\n",
       "      <th></th>\n",
       "      <th></th>\n",
       "      <th></th>\n",
       "      <th></th>\n",
       "      <th></th>\n",
       "      <th></th>\n",
       "      <th></th>\n",
       "    </tr>\n",
       "  </thead>\n",
       "  <tbody>\n",
       "    <tr>\n",
       "      <th>TLcf</th>\n",
       "      <td>high</td>\n",
       "      <td>373.22794</td>\n",
       "      <td>3192.7236</td>\n",
       "      <td>2299.1519</td>\n",
       "      <td>893.5719</td>\n",
       "      <td>1840.1213</td>\n",
       "      <td>1352.6024</td>\n",
       "    </tr>\n",
       "    <tr>\n",
       "      <th>THIS5</th>\n",
       "      <td>high</td>\n",
       "      <td>570.93018</td>\n",
       "      <td>4632.4492</td>\n",
       "      <td>0.0000</td>\n",
       "      <td>0.0000</td>\n",
       "      <td>4632.4492</td>\n",
       "      <td>0.0000</td>\n",
       "    </tr>\n",
       "    <tr>\n",
       "      <th>Lcf</th>\n",
       "      <td>low</td>\n",
       "      <td>237.45761</td>\n",
       "      <td>2081.5366</td>\n",
       "      <td>0.0000</td>\n",
       "      <td>0.0000</td>\n",
       "      <td>2081.5366</td>\n",
       "      <td>0.0000</td>\n",
       "    </tr>\n",
       "    <tr>\n",
       "      <th>HIS5</th>\n",
       "      <td>low</td>\n",
       "      <td>450.00461</td>\n",
       "      <td>3726.2500</td>\n",
       "      <td>0.0000</td>\n",
       "      <td>0.0000</td>\n",
       "      <td>3726.2500</td>\n",
       "      <td>0.0000</td>\n",
       "    </tr>\n",
       "  </tbody>\n",
       "</table>\n",
       "</div>"
      ],
      "text/plain": [
       "       bact       apol        ASA       ASA+      ASA-      ASA_H      ASA_P\n",
       "mol                                                                         \n",
       "TLcf   high  373.22794  3192.7236  2299.1519  893.5719  1840.1213  1352.6024\n",
       "THIS5  high  570.93018  4632.4492     0.0000    0.0000  4632.4492     0.0000\n",
       "Lcf     low  237.45761  2081.5366     0.0000    0.0000  2081.5366     0.0000\n",
       "HIS5    low  450.00461  3726.2500     0.0000    0.0000  3726.2500     0.0000"
      ]
     },
     "execution_count": 4,
     "metadata": {},
     "output_type": "execute_result"
    }
   ],
   "source": [
    "df.head()\n"
   ]
  },
  {
   "cell_type": "code",
   "execution_count": 5,
   "metadata": {},
   "outputs": [
    {
     "data": {
      "text/plain": [
       "array([[-0.28648918, -0.23354023,  1.73205081,  1.73205081, -1.06237462,\n",
       "         1.73205081],\n",
       "       [ 1.34685038,  1.32659199, -0.57735027, -0.57735027,  1.3494754 ,\n",
       "        -0.57735027],\n",
       "       [-1.40817122, -1.43765763, -0.57735027, -0.57735027, -0.85385416,\n",
       "        -0.57735027],\n",
       "       [ 0.34781002,  0.34460586, -0.57735027, -0.57735027,  0.56675337,\n",
       "        -0.57735027]])"
      ]
     },
     "execution_count": 5,
     "metadata": {},
     "output_type": "execute_result"
    }
   ],
   "source": [
    "x"
   ]
  },
  {
   "cell_type": "code",
   "execution_count": 6,
   "metadata": {},
   "outputs": [
    {
     "name": "stderr",
     "output_type": "stream",
     "text": [
      "/usr/lib64/python3.7/site-packages/sklearn/model_selection/_search.py:16: DeprecationWarning: Using or importing the ABCs from 'collections' instead of from 'collections.abc' is deprecated, and in 3.8 it will stop working\n",
      "  from collections import Mapping, namedtuple, defaultdict, Sequence\n"
     ]
    }
   ],
   "source": [
    "from sklearn.decomposition import PCA\n",
    "pca = PCA(n_components=3)\n",
    "# pca = PCA(n_components=2)\n",
    "principalComponents = pca.fit_transform(x)\n",
    "principalDf = pd.DataFrame(data = principalComponents\n",
    "            #, columns = ['principal component 1', 'principal component 2'])\n",
    "            , columns = ['principal component 1', 'principal component 2','principal component 3'])"
   ]
  },
  {
   "cell_type": "code",
   "execution_count": 7,
   "metadata": {},
   "outputs": [
    {
     "name": "stderr",
     "output_type": "stream",
     "text": [
      "/usr/lib64/python3.7/site-packages/pandas/core/indexes/range.py:465: RuntimeWarning: '<' not supported between instances of 'int' and 'str', sort order is undefined for incomparable objects\n",
      "  return self._int64index.union(other)\n"
     ]
    }
   ],
   "source": [
    "finalDf = pd.concat([principalDf, df['bact']], axis = 1)"
   ]
  },
  {
   "cell_type": "code",
   "execution_count": 8,
   "metadata": {},
   "outputs": [],
   "source": [
    "import matplotlib.pyplot as plt\n",
    "from matplotlib.pyplot import figure\n",
    "\n",
    "fig = plt.figure(figsize = (8,8))\n",
    "ax = fig.add_subplot(1,1,1) \n",
    "ax.set_xlabel('Principal Component 1', fontsize = 15)\n",
    "ax.set_ylabel('Principal Component 2', fontsize = 15)\n",
    "ax.set_title('2 component PCA', fontsize = 20)\n",
    "\n",
    "targets = ['high', 'low']\n",
    "colors = ['r', 'g']\n",
    "for bact, color in zip(targets,colors):\n",
    "    indicesToKeep = finalDf['bact'] == bact\n",
    "    ax.scatter(finalDf.loc[indicesToKeep, 'principal component 1']\n",
    "               , finalDf.loc[indicesToKeep, 'principal component 2']\n",
    "               , c = color\n",
    "               , s = 50)\n",
    "ax.legend(targets)\n",
    "ax.grid()"
   ]
  },
  {
   "cell_type": "code",
   "execution_count": 8,
   "metadata": {},
   "outputs": [
    {
     "data": {
      "text/plain": [
       "array([6.47955054e-01, 3.52038051e-01, 6.89471973e-06])"
      ]
     },
     "execution_count": 8,
     "metadata": {},
     "output_type": "execute_result"
    }
   ],
   "source": [
    "pca.explained_variance_ratio_"
   ]
  },
  {
   "cell_type": "code",
   "execution_count": 9,
   "metadata": {},
   "outputs": [
    {
     "data": {
      "text/plain": [
       "array([['high'],\n",
       "       ['high'],\n",
       "       ['low'],\n",
       "       ['low']], dtype=object)"
      ]
     },
     "execution_count": 9,
     "metadata": {},
     "output_type": "execute_result"
    }
   ],
   "source": [
    "y"
   ]
  },
  {
   "cell_type": "code",
   "execution_count": null,
   "metadata": {},
   "outputs": [],
   "source": []
  }
 ],
 "metadata": {
  "kernelspec": {
   "display_name": "Python 3",
   "language": "python",
   "name": "python3"
  },
  "language_info": {
   "codemirror_mode": {
    "name": "ipython",
    "version": 3
   },
   "file_extension": ".py",
   "mimetype": "text/x-python",
   "name": "python",
   "nbconvert_exporter": "python",
   "pygments_lexer": "ipython3",
   "version": "3.7.4"
  }
 },
 "nbformat": 4,
 "nbformat_minor": 2
}
